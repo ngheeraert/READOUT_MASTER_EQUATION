{
 "cells": [
  {
   "cell_type": "code",
   "execution_count": 1,
   "metadata": {},
   "outputs": [],
   "source": [
    "import numpy as np\n",
    "from functions import *\n",
    "from system_class import system\n",
    "import matplotlib.pyplot as plt\n",
    "import time \n",
    "#import qutip asqt\n",
    "import sys\n",
    "\n",
    "if not sys.warnoptions:\n",
    "    import warnings\n",
    "    warnings.simplefilter(\"ignore\")\n",
    "%matplotlib inline\n",
    "%config InlineBackend.print_figure_kwargs={'facecolor' : \"w\"}\n",
    "%load_ext autoreload\n",
    "%autoreload 2\n",
    "pi=np.pi"
   ]
  },
  {
   "cell_type": "code",
   "execution_count": 3,
   "metadata": {
    "scrolled": false
   },
   "outputs": [
    {
     "name": "stdout",
     "output_type": "stream",
     "text": [
      "===============================================\n",
      "Nq, Nc  = 2, 5\n",
      "w01, wc, wd  =  5.0000,  5.5000,  5.5000 \n",
      "Ad  =  0.0025 \n",
      "ah  = 15915494.1500 \n",
      "g  = -0.0500 \n",
      "kappa  =  0.0100 \n",
      "atol  = 1.0e-08 \n",
      "rtol  = 1.0e-06 \n",
      "max_step  = 1e-04 \n",
      "couling_type  = 00 \n",
      "device  = TRSM0 \n",
      "===============================================\n",
      "tmax1000_Nq2_Nc5_amp0.0025_kappa0.0100_wq5.0000_anh15915494.1500_wc5.5000_wd5.5000_ms1e-04_dimexp20_qb[0]_00_TRSM0\n"
     ]
    }
   ],
   "source": [
    "g= -0.05 * 2*pi\n",
    "w = 5.5 * 2*pi\n",
    "wq = 5 * 2*pi\n",
    "Ad=0.0025 * 2*np.pi\n",
    "wd=5.5 * 2*np.pi\n",
    "gamma=0.01 * 2*np.pi\n",
    "\n",
    "tmax = 1000\n",
    "tint = tmax/3000\n",
    "nsteps = int( tmax / tint - 1 )\n",
    "times = np.linspace( 0, tmax, nsteps )\n",
    "nsteps = len( times )\n",
    "\n",
    "spinx_arr = np.zeros(  nsteps )\n",
    "spinz_arr = np.zeros(  nsteps )\n",
    "pop01 = np.zeros(  nsteps )\n",
    "n_arr = np.zeros(  nsteps) \n",
    "\n",
    "s = system(w01=wq,g=g,w=w,wd=wd,gamma=gamma,Ad=Ad,\\\n",
    "           cavity_dim=5, qubit_dim=2, dvice='TRSM0', atol=1e-8,rtol=1e-6, max_step=1e-4 )\n",
    "s.set_initial_qb_state([1])\n",
    "s.set_initial_cs_state( alpha=0 )\n",
    "s.initialise_density_matrix()\n",
    "\n",
    "print(s.paramchar(times[-1]))"
   ]
  },
  {
   "cell_type": "code",
   "execution_count": null,
   "metadata": {
    "scrolled": false
   },
   "outputs": [
    {
     "name": "stdout",
     "output_type": "stream",
     "text": [
      "t= 0.0 ||       0\n"
     ]
    }
   ],
   "source": [
    "t1 = time.time()\n",
    "rhos = s.time_evolve( times )\n",
    "t2 = time.time()\n",
    "s.save_and_plot( times, rhos, [0] )"
   ]
  },
  {
   "cell_type": "code",
   "execution_count": null,
   "metadata": {},
   "outputs": [],
   "source": []
  }
 ],
 "metadata": {
  "kernelspec": {
   "display_name": "Python 3 (ipykernel)",
   "language": "python",
   "name": "python3"
  },
  "language_info": {
   "codemirror_mode": {
    "name": "ipython",
    "version": 3
   },
   "file_extension": ".py",
   "mimetype": "text/x-python",
   "name": "python",
   "nbconvert_exporter": "python",
   "pygments_lexer": "ipython3",
   "version": "3.8.16"
  }
 },
 "nbformat": 4,
 "nbformat_minor": 4
}
