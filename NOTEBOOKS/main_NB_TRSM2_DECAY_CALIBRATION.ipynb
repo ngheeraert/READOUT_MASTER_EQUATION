{
 "cells": [
  {
   "cell_type": "code",
   "execution_count": 12,
   "metadata": {},
   "outputs": [
    {
     "name": "stdout",
     "output_type": "stream",
     "text": [
      "The autoreload extension is already loaded. To reload it, use:\n",
      "  %reload_ext autoreload\n"
     ]
    }
   ],
   "source": [
    "import numpy as np\n",
    "from functions import *\n",
    "from system_class import system\n",
    "import matplotlib.pyplot as plt\n",
    "import time \n",
    "#import qutip as qt\n",
    "import sys\n",
    "\n",
    "if not sys.warnoptions:\n",
    "    import warnings\n",
    "    warnings.simplefilter(\"ignore\")\n",
    "%matplotlib inline\n",
    "%config InlineBackend.print_figure_kwargs={'facecolor' : \"w\"}\n",
    "%matplotlib inline\n",
    "%load_ext autoreload\n",
    "%autoreload 2\n",
    "pi=np.pi"
   ]
  },
  {
   "cell_type": "code",
   "execution_count": 13,
   "metadata": {
    "scrolled": false
   },
   "outputs": [
    {
     "name": "stdout",
     "output_type": "stream",
     "text": [
      "wq= 5.401976741795615\n",
      "wc= 6.78\n"
     ]
    }
   ],
   "source": [
    "anh = 0.2211*2*pi\n",
    "g= 0.087*2*pi * 0 \n",
    "w = 6.78*2*pi\n",
    "#w = 5.401976741795615*2*pi\n",
    "Ad=0.005*2*np.pi\n",
    "wd=w\n",
    "gamma=0.0043 * 2*np.pi\n",
    "Omega=0.0059*0\n",
    "\n",
    "tmax = 200\n",
    "tint = tmax/100\n",
    "nsteps = int( tmax / tint - 1 )\n",
    "times = np.linspace( 0, tmax, nsteps )\n",
    "nsteps = len( times )\n",
    "\n",
    "spinx_arr = np.zeros(  nsteps )\n",
    "spinz_arr = np.zeros(  nsteps )\n",
    "pop01 = np.zeros(  nsteps )\n",
    "n_arr = np.zeros(  nsteps) \n",
    "\n",
    "s = system(anh=anh,g=g,w=w,wd=wd,gamma=gamma,Ad=Ad,\\\n",
    "           cavity_dim=15, qubit_dim=2 )\n",
    "s.set_initial_qb_state([1,0])\n",
    "s.set_initial_cs_state( alpha=0 )\n",
    "#s.set_initial_photon_state()\n",
    "s.initialise_density_matrix()"
   ]
  },
  {
   "cell_type": "code",
   "execution_count": 14,
   "metadata": {
    "scrolled": false
   },
   "outputs": [
    {
     "name": "stdout",
     "output_type": "stream",
     "text": [
      "order= 10\n",
      ".................................................................................................."
     ]
    }
   ],
   "source": [
    "t1 = time.time()\n",
    "rhos = s.time_evolve( times )\n",
    "t2 = time.time()\n",
    "\n",
    "for j in range(nsteps):\n",
    "    #pop01[j] = partial_trace( rhos[j], [2,20], 0)[0,1]\n",
    "    spinx_arr[j] = np.trace( (s.b+s.b_dag).dot( rhos[j] ) )\n",
    "    spinz_arr[j] = np.trace( (s.nb).dot( rhos[j] ) )\n",
    "    n_arr[j] = np.trace( s.na.dot( rhos[j] ) )"
   ]
  },
  {
   "cell_type": "code",
   "execution_count": 16,
   "metadata": {},
   "outputs": [
    {
     "data": {
      "image/png": "[encoded data removed]",
      "text/plain": [
       "<Figure size 432x288 with 1 Axes>"
      ]
     },
     "metadata": {
      "needs_background": "light"
     },
     "output_type": "display_data"
    },
    {
     "data": {
      "image/png": "[encoded data removed]",
      "text/plain": [
       "<Figure size 432x288 with 1 Axes>"
      ]
     },
     "metadata": {
      "needs_background": "light"
     },
     "output_type": "display_data"
    }
   ],
   "source": [
    "#plt.plot( np.array(times), spinz_arr[:])\n",
    "plt.plot( np.array(times), np.array(spinz_arr))\n",
    "plt.plot( np.array(times), np.array(spinx_arr))\n",
    "plt.show()\n",
    "plt.plot( np.array(times), np.array(n_arr))\n",
    "\n",
    "photons_save = np.zeros( (len(times),2), dtype='float64' )\n",
    "photons_save[:,0] = np.array(times)\n",
    "photons_save[:,1] = np.array(n_arr)\n",
    "np.savetxt( \"photons_TRSM1.d\", photons_save )\n",
    "#plt.ylim(0,1)\n",
    "plt.show()\n"
   ]
  },
  {
   "cell_type": "code",
   "execution_count": 49,
   "metadata": {},
   "outputs": [
    {
     "data": {
      "text/plain": [
       "199"
      ]
     },
     "execution_count": 49,
     "metadata": {},
     "output_type": "execute_result"
    }
   ],
   "source": [
    "len(np.array(times))"
   ]
  },
  {
   "cell_type": "code",
   "execution_count": 105,
   "metadata": {},
   "outputs": [
    {
     "data": {
      "image/png": "[encoded data removed]",
      "text/plain": [
       "<Figure size 432x288 with 1 Axes>"
      ]
     },
     "metadata": {
      "needs_background": "light"
     },
     "output_type": "display_data"
    }
   ],
   "source": [
    "#s = system(d=1,g=0.1,w=1,wd=0,gamma=0, Omega=0, cavity_dim=20 )\n",
    "#s.set_initial_qb_state([1,0])\n",
    "##print( qt.displace( s.cavity_dim, 1 ).full() )\n",
    "#disp_mat_temp = qt.displace( s.cavity_dim, 1 ).full()\n",
    "#disp_mat = np.kron( s.ide_qb, disp_mat_temp) \n",
    "#s.rho = disp_mat.dot(s.rho).dot( np.transpose(disp_mat) ) \n",
    "\n",
    "lmin, lmax = -7,7\n",
    "lambda_list_re = np.linspace( lmin, lmax, 50 )\n",
    "lambda_list_im = np.linspace( lmin, lmax, 50 )\n",
    "\n",
    "wigner = s.my_wigner(lambda_list_re, lambda_list_im)\n",
    "\n",
    "extent = [lmin,lmax,lmin,lmax]\n",
    "plt.imshow( wigner, extent=extent, origin='lower' )\n",
    "plt.show()"
   ]
  },
  {
   "cell_type": "code",
   "execution_count": 103,
   "metadata": {},
   "outputs": [
    {
     "ename": "NameError",
     "evalue": "name 'wigner' is not defined",
     "output_type": "error",
     "traceback": [
      "\u001b[0;31m---------------------------------------------------------------------------\u001b[0m",
      "\u001b[0;31mNameError\u001b[0m                                 Traceback (most recent call last)",
      "\u001b[0;32m/var/folders/mj/gs2wf_7942n5x54dzbjr6thh0000gq/T/ipykernel_6457/1685795311.py\u001b[0m in \u001b[0;36m<module>\u001b[0;34m\u001b[0m\n\u001b[1;32m      1\u001b[0m \u001b[0mextent\u001b[0m \u001b[0;34m=\u001b[0m \u001b[0;34m[\u001b[0m\u001b[0mlmin\u001b[0m\u001b[0;34m,\u001b[0m\u001b[0mlmax\u001b[0m\u001b[0;34m,\u001b[0m\u001b[0mlmin\u001b[0m\u001b[0;34m,\u001b[0m\u001b[0mlmax\u001b[0m\u001b[0;34m]\u001b[0m\u001b[0;34m\u001b[0m\u001b[0;34m\u001b[0m\u001b[0m\n\u001b[0;32m----> 2\u001b[0;31m \u001b[0mplt\u001b[0m\u001b[0;34m.\u001b[0m\u001b[0mimshow\u001b[0m\u001b[0;34m(\u001b[0m \u001b[0mwigner\u001b[0m\u001b[0;34m,\u001b[0m \u001b[0mextent\u001b[0m\u001b[0;34m=\u001b[0m\u001b[0mextent\u001b[0m\u001b[0;34m,\u001b[0m \u001b[0morigin\u001b[0m\u001b[0;34m=\u001b[0m\u001b[0;34m'lower'\u001b[0m \u001b[0;34m)\u001b[0m\u001b[0;34m\u001b[0m\u001b[0;34m\u001b[0m\u001b[0m\n\u001b[0m\u001b[1;32m      3\u001b[0m \u001b[0mplt\u001b[0m\u001b[0;34m.\u001b[0m\u001b[0mshow\u001b[0m\u001b[0;34m(\u001b[0m\u001b[0;34m)\u001b[0m\u001b[0;34m\u001b[0m\u001b[0;34m\u001b[0m\u001b[0m\n",
      "\u001b[0;31mNameError\u001b[0m: name 'wigner' is not defined"
     ]
    }
   ],
   "source": [
    "extent = [lmin,lmax,lmin,lmax]\n",
    "plt.imshow( wigner, extent=extent, origin='lower' )\n",
    "plt.show()"
   ]
  },
  {
   "cell_type": "code",
   "execution_count": 106,
   "metadata": {},
   "outputs": [
    {
     "data": {
      "text/plain": [
       "(24.93121962732264+0j)"
      ]
     },
     "execution_count": 106,
     "metadata": {},
     "output_type": "execute_result"
    }
   ],
   "source": [
    "s.expect( s.na )"
   ]
  },
  {
   "cell_type": "code",
   "execution_count": null,
   "metadata": {},
   "outputs": [],
   "source": [
    "\n",
    "#dims_simulated = []\n",
    "#for i in range(nb_cav_dim):\n",
    "#    \n",
    "#    cavity_dim = 10*( nb_cav_dim_min + i )\n",
    "#    dims_simulated.append(cavity_dim)\n",
    "#    \n",
    "#    s = system(d=wq,g=g,w=w,wd=wd,gamma=gamma, Omega=Omega, cavity_dim=cavity_dim )\n",
    "#    s.set_initial_qb_state([1,1])\n",
    "#    print(np.trace( (s.b+s.b_dag).dot( s.rho ) ))\n",
    "#    sys.exit()\n",
    "#    \n",
    "#    t1 = time.time()\n",
    "#    rhos = s.time_evolve( times )\n",
    "#    t2 = time.time()\n",
    "#    print(\"time=\", t2-t1, \"cavity_dim=\", cavity_dim)\n",
    "#\n",
    "#    for j in range(nsteps):\n",
    "#        spinx_arr[i,j] = np.trace( (s.b+s.b_dag).dot( rhos[j] ) )\n",
    "#        spinz_arr[i,j] = np.trace( (s.nb).dot( rhos[j] ) )\n",
    "#        n_arr[i,j] = np.trace( s.na.dot( rhos[j] ) )\n",
    "#    \n",
    "#print( s.expect( s.na ) )"
   ]
  }
 ],
 "metadata": {
  "kernelspec": {
   "display_name": "Python 3 (ipykernel)",
   "language": "python",
   "name": "python3"
  },
  "language_info": {
   "codemirror_mode": {
    "name": "ipython",
    "version": 3
   },
   "file_extension": ".py",
   "mimetype": "text/x-python",
   "name": "python",
   "nbconvert_exporter": "python",
   "pygments_lexer": "ipython3",
   "version": "3.8.11"
  }
 },
 "nbformat": 4,
 "nbformat_minor": 4
}
