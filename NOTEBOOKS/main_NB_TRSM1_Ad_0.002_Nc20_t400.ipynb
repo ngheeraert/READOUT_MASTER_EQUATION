{
 "cells": [
  {
   "cell_type": "code",
   "execution_count": 1,
   "metadata": {},
   "outputs": [],
   "source": [
    "import numpy as np\n",
    "from functions import *\n",
    "from system_class import system\n",
    "import matplotlib.pyplot as plt\n",
    "import time \n",
    "#import qutip as qt\n",
    "import sys\n",
    "\n",
    "if not sys.warnoptions:\n",
    "    import warnings\n",
    "    warnings.simplefilter(\"ignore\")\n",
    "%matplotlib inline\n",
    "%config InlineBackend.print_figure_kwargs={'facecolor' : \"w\"}\n",
    "%load_ext autoreload\n",
    "%autoreload 2\n",
    "pi=np.pi"
   ]
  },
  {
   "cell_type": "code",
   "execution_count": 2,
   "metadata": {
    "scrolled": false
   },
   "outputs": [
    {
     "name": "stdout",
     "output_type": "stream",
     "text": [
      "===============================================\n",
      "Nq, Nc  = 5, 30\n",
      "w01, wc, wd  =  4.4619,  7.4150,  7.4214 \n",
      "Ad  =  0.0020 \n",
      "ah  = -0.2141 \n",
      "g  = -0.1586 \n",
      "kappa  =  0.0014 \n",
      "===============================================\n"
     ]
    }
   ],
   "source": [
    "g= -0.1586*2*pi\n",
    "w = 7.415*2*pi\n",
    "#w = 5.401976741795615*2*pi\n",
    "Ad=0.002*2*np.pi\n",
    "wd=7.421351*2*np.pi\n",
    "gamma=0.0014 * 2*np.pi\n",
    "Omega=0.004 * 2*np.pi\n",
    "\n",
    "tmax = 400\n",
    "tint = tmax/300\n",
    "nsteps = int( tmax / tint - 1 )\n",
    "times = np.linspace( 0, tmax, nsteps )\n",
    "nsteps = len( times )\n",
    "\n",
    "spinx_arr = np.zeros(  nsteps )\n",
    "spinz_arr = np.zeros(  nsteps )\n",
    "pop01 = np.zeros(  nsteps )\n",
    "n_arr = np.zeros(  nsteps) \n",
    "\n",
    "s = system(g=g,w=w,wd=wd,gamma=gamma,Ad=Ad,\\\n",
    "           cavity_dim=30, qubit_dim=5, dvice='TRSM1' )\n",
    "s.set_initial_qb_state([1])\n",
    "s.set_initial_cs_state( alpha=0 )\n",
    "s.initialise_density_matrix()"
   ]
  },
  {
   "cell_type": "code",
   "execution_count": null,
   "metadata": {
    "scrolled": false
   },
   "outputs": [
    {
     "name": "stdout",
     "output_type": "stream",
     "text": [
      ".....ERROR:  -1\n",
      ".ERROR:  -1\n",
      "."
     ]
    }
   ],
   "source": [
    "t1 = time.time()\n",
    "rhos = s.time_evolve( times )\n",
    "t2 = time.time()"
   ]
  },
  {
   "cell_type": "code",
   "execution_count": null,
   "metadata": {},
   "outputs": [],
   "source": [
    "s.save_and_plot( times, rhos, [0,1] )"
   ]
  }
 ],
 "metadata": {
  "kernelspec": {
   "display_name": "Python 3 (ipykernel)",
   "language": "python",
   "name": "python3"
  },
  "language_info": {
   "codemirror_mode": {
    "name": "ipython",
    "version": 3
   },
   "file_extension": ".py",
   "mimetype": "text/x-python",
   "name": "python",
   "nbconvert_exporter": "python",
   "pygments_lexer": "ipython3",
   "version": "3.8.11"
  }
 },
 "nbformat": 4,
 "nbformat_minor": 4
}
